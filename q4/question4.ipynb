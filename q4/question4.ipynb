{
 "cells": [
  {
   "cell_type": "code",
   "execution_count": 26,
   "id": "200875b1",
   "metadata": {},
   "outputs": [],
   "source": [
    "def fac(x):\n",
    "    if(x-1>0):\n",
    "        x=x*fac(x-1)\n",
    "    return x"
   ]
  },
  {
   "cell_type": "code",
   "execution_count": 27,
   "id": "da837cb0",
   "metadata": {},
   "outputs": [
    {
     "name": "stdout",
     "output_type": "stream",
     "text": [
      "Hello,World!\n",
      "0\n",
      "2\n",
      "24\n",
      "720\n",
      "40320\n",
      "3628800\n",
      "479001600\n",
      "87178291200\n"
     ]
    }
   ],
   "source": [
    "def main():\n",
    "    print(\"Hello,World!\")\n",
    "    \n",
    "if __name__=='__main__':\n",
    "    main()\n",
    "for i in range(15):\n",
    "    if(i%2==0):\n",
    "        print(fac(i))"
   ]
  },
  {
   "cell_type": "code",
   "execution_count": null,
   "id": "e33ccfeb",
   "metadata": {},
   "outputs": [],
   "source": []
  }
 ],
 "metadata": {
  "kernelspec": {
   "display_name": "Python 3 (ipykernel)",
   "language": "python",
   "name": "python3"
  },
  "language_info": {
   "codemirror_mode": {
    "name": "ipython",
    "version": 3
   },
   "file_extension": ".py",
   "mimetype": "text/x-python",
   "name": "python",
   "nbconvert_exporter": "python",
   "pygments_lexer": "ipython3",
   "version": "3.9.13"
  }
 },
 "nbformat": 4,
 "nbformat_minor": 5
}
