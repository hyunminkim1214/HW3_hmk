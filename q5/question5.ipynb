{
 "cells": [
  {
   "cell_type": "code",
   "execution_count": 1,
   "id": "fe64ce17",
   "metadata": {},
   "outputs": [],
   "source": [
    "def reverse_words(string):\n",
    "    strarr=string.split()\n",
    "    strarr.reverse()\n",
    "    str=''\n",
    "    for s in strarr:\n",
    "        str+=s+' '\n",
    "    print('input : '+string)\n",
    "    print('output : '+str)"
   ]
  },
  {
   "cell_type": "code",
   "execution_count": 2,
   "id": "5e4d83c8",
   "metadata": {},
   "outputs": [],
   "source": [
    "str='Two roads diverged in a yellow wood, And sorry I could not travel both And be one traveler, long I stood And looked down one as far as I could To where it bent in the undergrowth;'"
   ]
  },
  {
   "cell_type": "code",
   "execution_count": 5,
   "id": "9c056263",
   "metadata": {},
   "outputs": [
    {
     "name": "stdout",
     "output_type": "stream",
     "text": [
      "Hello,World!\n",
      "input : Two roads diverged in a yellow wood, And sorry I could not travel both And be one traveler, long I stood And looked down one as far as I could To where it bent in the undergrowth;\n",
      "output : undergrowth; the in bent it where To could I as far as one down looked And stood I long traveler, one be And both travel not could I sorry And wood, yellow a in diverged roads Two \n"
     ]
    }
   ],
   "source": [
    "def main():\n",
    "    print(\"Hello,World!\")\n",
    "\n",
    "if __name__=='__main__':\n",
    "    main()\n",
    "reverse_words(str)"
   ]
  },
  {
   "cell_type": "code",
   "execution_count": 4,
   "id": "9e8a6ba7",
   "metadata": {},
   "outputs": [],
   "source": [
    "str2='Then took the other, as just as fair, And having perhaps the better claim, Because it was grassy and wanted wear; Though as for that the passing there Had worn them really about the same,'"
   ]
  },
  {
   "cell_type": "code",
   "execution_count": 6,
   "id": "de38f5c8",
   "metadata": {},
   "outputs": [
    {
     "name": "stdout",
     "output_type": "stream",
     "text": [
      "Hello,World!\n",
      "input : Then took the other, as just as fair, And having perhaps the better claim, Because it was grassy and wanted wear; Though as for that the passing there Had worn them really about the same,\n",
      "output : same, the about really them worn Had there passing the that for as Though wear; wanted and grassy was it Because claim, better the perhaps having And fair, as just as other, the took Then \n"
     ]
    }
   ],
   "source": [
    "def main():\n",
    "    print(\"Hello,World!\")\n",
    "\n",
    "if __name__=='__main__':\n",
    "    main()\n",
    "reverse_words(str2)"
   ]
  },
  {
   "cell_type": "code",
   "execution_count": null,
   "id": "7f8b83a5",
   "metadata": {},
   "outputs": [],
   "source": []
  }
 ],
 "metadata": {
  "kernelspec": {
   "display_name": "Python 3 (ipykernel)",
   "language": "python",
   "name": "python3"
  },
  "language_info": {
   "codemirror_mode": {
    "name": "ipython",
    "version": 3
   },
   "file_extension": ".py",
   "mimetype": "text/x-python",
   "name": "python",
   "nbconvert_exporter": "python",
   "pygments_lexer": "ipython3",
   "version": "3.9.13"
  }
 },
 "nbformat": 4,
 "nbformat_minor": 5
}
